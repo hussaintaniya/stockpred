{
  "nbformat": 4,
  "nbformat_minor": 0,
  "metadata": {
    "colab": {
      "provenance": []
    },
    "kernelspec": {
      "name": "python3",
      "display_name": "Python 3"
    },
    "language_info": {
      "name": "python"
    }
  },
  "cells": [
    {
      "cell_type": "code",
      "execution_count": null,
      "metadata": {
        "id": "G6AxIb9BD9Ml"
      },
      "outputs": [],
      "source": [
        "import numpy as np \n",
        "import pandas as pd \n",
        "import matplotlib.pyplot as plt \n",
        "from sklearn.preprocessing import MinMaxScaler\n",
        "from keras.models import Sequential\n",
        "from keras.layers import Dense,LSTM,Dropout"
      ]
    },
    {
      "cell_type": "code",
      "source": [
        "data = pd.read_csv('trainData.csv') "
      ],
      "metadata": {
        "id": "N1APwK1nEf-K"
      },
      "execution_count": null,
      "outputs": []
    },
    {
      "cell_type": "code",
      "source": [
        "data.info()"
      ],
      "metadata": {
        "colab": {
          "base_uri": "https://localhost:8080/"
        },
        "id": "4vo3WYXEZV_Q",
        "outputId": "5a9f9e28-cc97-4938-c24f-66de34f10287"
      },
      "execution_count": null,
      "outputs": [
        {
          "output_type": "stream",
          "name": "stdout",
          "text": [
            "<class 'pandas.core.frame.DataFrame'>\n",
            "RangeIndex: 1258 entries, 0 to 1257\n",
            "Data columns (total 6 columns):\n",
            " #   Column  Non-Null Count  Dtype  \n",
            "---  ------  --------------  -----  \n",
            " 0   Date    1258 non-null   object \n",
            " 1   Open    1258 non-null   float64\n",
            " 2   High    1258 non-null   float64\n",
            " 3   Low     1258 non-null   float64\n",
            " 4   Close   1258 non-null   object \n",
            " 5   Volume  1258 non-null   object \n",
            "dtypes: float64(3), object(3)\n",
            "memory usage: 59.1+ KB\n"
          ]
        }
      ]
    },
    {
      "cell_type": "code",
      "source": [
        "data[\"Close\"]=pd.to_numeric(data.Close,errors='coerce') #turning the Close column to numeric\n",
        "data = data.dropna() #romeving the NA values\n",
        "trainData = data.iloc[:,4:5].values #selecting only the closing prices for training"
      ],
      "metadata": {
        "id": "1JwIYdWnZYlv"
      },
      "execution_count": null,
      "outputs": []
    },
    {
      "cell_type": "code",
      "source": [
        "sc = MinMaxScaler(feature_range=(0,1))\n",
        "trainData = sc.fit_transform(trainData)\n",
        "trainData.shape"
      ],
      "metadata": {
        "colab": {
          "base_uri": "https://localhost:8080/"
        },
        "id": "CTQmQ8HEZfjF",
        "outputId": "8f3102d8-0142-4018-dcdf-daa474521f0e"
      },
      "execution_count": null,
      "outputs": [
        {
          "output_type": "execute_result",
          "data": {
            "text/plain": [
              "(1149, 1)"
            ]
          },
          "metadata": {},
          "execution_count": 8
        }
      ]
    },
    {
      "cell_type": "code",
      "source": [
        "X_train = []\n",
        "y_train = []\n",
        "\n",
        "for i in range (60,1149): #60 : timestep // 1149 : length of the data\n",
        "    X_train.append(trainData[i-60:i,0]) \n",
        "    y_train.append(trainData[i,0])\n",
        "\n",
        "X_train,y_train = np.array(X_train),np.array(y_train)"
      ],
      "metadata": {
        "id": "ZWuaX_qyZhhg"
      },
      "execution_count": null,
      "outputs": []
    },
    {
      "cell_type": "code",
      "source": [
        "X_train = np.reshape(X_train,(X_train.shape[0],X_train.shape[1],1)) #adding the batch_size axis\n",
        "X_train.shape"
      ],
      "metadata": {
        "colab": {
          "base_uri": "https://localhost:8080/"
        },
        "id": "TLItN8hyZkNF",
        "outputId": "fa94e49d-684c-4c14-c3c8-59206a03de1d"
      },
      "execution_count": null,
      "outputs": [
        {
          "output_type": "execute_result",
          "data": {
            "text/plain": [
              "(1089, 60, 1)"
            ]
          },
          "metadata": {},
          "execution_count": 10
        }
      ]
    },
    {
      "cell_type": "code",
      "source": [
        "model = Sequential()\n",
        "\n",
        "model.add(LSTM(units=100, return_sequences = True, input_shape =(X_train.shape[1],1)))\n",
        "model.add(Dropout(0.2))\n",
        "\n",
        "model.add(LSTM(units=100, return_sequences = True))\n",
        "model.add(Dropout(0.2))\n",
        "\n",
        "model.add(LSTM(units=100, return_sequences = True))\n",
        "model.add(Dropout(0.2))\n",
        "\n",
        "model.add(LSTM(units=100, return_sequences = False))\n",
        "model.add(Dropout(0.2))\n",
        "\n",
        "model.add(Dense(units =1))\n",
        "model.compile(optimizer='adam',loss=\"mean_squared_error\")"
      ],
      "metadata": {
        "id": "0csTMY9dZmYG"
      },
      "execution_count": null,
      "outputs": []
    },
    {
      "cell_type": "code",
      "source": [
        "hist = model.fit(X_train, y_train, epochs = 20, batch_size = 32, verbose=2)"
      ],
      "metadata": {
        "colab": {
          "base_uri": "https://localhost:8080/"
        },
        "id": "auljQyi8Zo4X",
        "outputId": "a76cb9f9-c04d-4d09-a1e7-f47d2ef2195d"
      },
      "execution_count": null,
      "outputs": [
        {
          "output_type": "stream",
          "name": "stdout",
          "text": [
            "Epoch 1/20\n",
            "35/35 - 15s - loss: 0.0430 - 15s/epoch - 425ms/step\n",
            "Epoch 2/20\n",
            "35/35 - 7s - loss: 0.0137 - 7s/epoch - 202ms/step\n",
            "Epoch 3/20\n",
            "35/35 - 7s - loss: 0.0106 - 7s/epoch - 200ms/step\n",
            "Epoch 4/20\n",
            "35/35 - 7s - loss: 0.0108 - 7s/epoch - 199ms/step\n",
            "Epoch 5/20\n",
            "35/35 - 7s - loss: 0.0079 - 7s/epoch - 200ms/step\n",
            "Epoch 6/20\n",
            "35/35 - 7s - loss: 0.0084 - 7s/epoch - 201ms/step\n",
            "Epoch 7/20\n",
            "35/35 - 7s - loss: 0.0072 - 7s/epoch - 200ms/step\n",
            "Epoch 8/20\n",
            "35/35 - 7s - loss: 0.0076 - 7s/epoch - 199ms/step\n",
            "Epoch 9/20\n",
            "35/35 - 7s - loss: 0.0063 - 7s/epoch - 200ms/step\n",
            "Epoch 10/20\n",
            "35/35 - 8s - loss: 0.0063 - 8s/epoch - 218ms/step\n",
            "Epoch 11/20\n",
            "35/35 - 8s - loss: 0.0088 - 8s/epoch - 234ms/step\n",
            "Epoch 12/20\n",
            "35/35 - 7s - loss: 0.0068 - 7s/epoch - 199ms/step\n",
            "Epoch 13/20\n",
            "35/35 - 7s - loss: 0.0073 - 7s/epoch - 200ms/step\n",
            "Epoch 14/20\n",
            "35/35 - 7s - loss: 0.0061 - 7s/epoch - 199ms/step\n",
            "Epoch 15/20\n",
            "35/35 - 7s - loss: 0.0055 - 7s/epoch - 199ms/step\n",
            "Epoch 16/20\n",
            "35/35 - 7s - loss: 0.0058 - 7s/epoch - 199ms/step\n",
            "Epoch 17/20\n",
            "35/35 - 7s - loss: 0.0061 - 7s/epoch - 198ms/step\n",
            "Epoch 18/20\n",
            "35/35 - 7s - loss: 0.0054 - 7s/epoch - 198ms/step\n",
            "Epoch 19/20\n",
            "35/35 - 7s - loss: 0.0047 - 7s/epoch - 203ms/step\n",
            "Epoch 20/20\n",
            "35/35 - 7s - loss: 0.0063 - 7s/epoch - 200ms/step\n"
          ]
        }
      ]
    },
    {
      "cell_type": "code",
      "source": [
        "plt.plot(hist.history['loss'])\n",
        "plt.title('model loss')\n",
        "plt.ylabel('loss')\n",
        "plt.xlabel('epoch')\n",
        "plt.legend(['train'], loc='upper left')\n",
        "plt.show()"
      ],
      "metadata": {
        "colab": {
          "base_uri": "https://localhost:8080/",
          "height": 295
        },
        "id": "K2nb5EWOZrDI",
        "outputId": "99d1e986-01cf-4a32-b9a5-9b2aa36e3842"
      },
      "execution_count": null,
      "outputs": [
        {
          "output_type": "display_data",
          "data": {
            "text/plain": [
              "<Figure size 432x288 with 1 Axes>"
            ],
            "image/png": "[encoded data removed]"
          },
          "metadata": {
            "needs_background": "light"
          }
        }
      ]
    },
    {
      "cell_type": "code",
      "source": [
        "testData = pd.read_csv('GOOG.csv') #importing the test data\n",
        "testData[\"Close\"]=pd.to_numeric(testData.Close,errors='coerce') #turning the close column to numerical type\n",
        "testData = testData.dropna() #droping the NA values\n",
        "testData = testData.iloc[:,4:5] #selecting the closing prices for testing\n",
        "y_test = testData.iloc[60:,0:].values #selecting the labels \n",
        "#input array for the model\n",
        "inputClosing = testData.iloc[:,0:].values \n",
        "inputClosing_scaled = sc.transform(inputClosing)\n",
        "inputClosing_scaled.shape\n",
        "X_test = []\n",
        "length = len(testData)\n",
        "timestep = 60\n",
        "for i in range(timestep,length): #doing the same preivous preprocessing \n",
        "    X_test.append(inputClosing_scaled[i-timestep:i,0])\n",
        "X_test = np.array(X_test)\n",
        "X_test = np.reshape(X_test,(X_test.shape[0],X_test.shape[1],1))\n",
        "X_test.shape"
      ],
      "metadata": {
        "colab": {
          "base_uri": "https://localhost:8080/"
        },
        "id": "indqjnqralOF",
        "outputId": "b85f63d2-31af-4b78-e505-e08ee53bfef5"
      },
      "execution_count": null,
      "outputs": [
        {
          "output_type": "execute_result",
          "data": {
            "text/plain": [
              "(192, 60, 1)"
            ]
          },
          "metadata": {},
          "execution_count": 14
        }
      ]
    },
    {
      "cell_type": "code",
      "source": [
        "y_pred = model.predict(X_test) #predicting the new values"
      ],
      "metadata": {
        "id": "Z3wQmFSua2wF"
      },
      "execution_count": null,
      "outputs": []
    },
    {
      "cell_type": "code",
      "source": [
        "predicted_price = sc.inverse_transform(y_pred) #inversing the scaling transformation for ploting "
      ],
      "metadata": {
        "id": "NvRm5L0vbAa0"
      },
      "execution_count": null,
      "outputs": []
    },
    {
      "cell_type": "code",
      "source": [
        "plt.plot(y_test, color = 'blue', label = 'Actual Stock Price')\n",
        "plt.plot(predicted_price, color = 'red', label = 'Predicted Stock Price')\n",
        "plt.title('GOOG stock price prediction')\n",
        "plt.xlabel('Time')\n",
        "plt.ylabel('Stock Price')\n",
        "plt.legend()\n",
        "plt.show()"
      ],
      "metadata": {
        "colab": {
          "base_uri": "https://localhost:8080/",
          "height": 295
        },
        "id": "rEkzLaZXbCJK",
        "outputId": "dcca25d1-e544-4222-e097-e04c1cccec44"
      },
      "execution_count": null,
      "outputs": [
        {
          "output_type": "display_data",
          "data": {
            "text/plain": [
              "<Figure size 432x288 with 1 Axes>"
            ],
            "image/png": "[encoded data removed]"
          },
          "metadata": {
            "needs_background": "light"
          }
        }
      ]
    },
    {
      "cell_type": "code",
      "source": [
        "y_test.shape"
      ],
      "metadata": {
        "colab": {
          "base_uri": "https://localhost:8080/"
        },
        "id": "63VMdGGRl3_8",
        "outputId": "52b69cec-33e3-4ad9-9d9d-21e78d498c4d"
      },
      "execution_count": null,
      "outputs": [
        {
          "output_type": "execute_result",
          "data": {
            "text/plain": [
              "(192, 1)"
            ]
          },
          "metadata": {},
          "execution_count": 18
        }
      ]
    },
    {
      "cell_type": "code",
      "source": [
        "predicted_price.shape"
      ],
      "metadata": {
        "colab": {
          "base_uri": "https://localhost:8080/"
        },
        "id": "rvz8TGOK7VY2",
        "outputId": "2d4506d9-2a0b-4322-c7b5-c127f8b7121a"
      },
      "execution_count": null,
      "outputs": [
        {
          "output_type": "execute_result",
          "data": {
            "text/plain": [
              "(192, 1)"
            ]
          },
          "metadata": {},
          "execution_count": 19
        }
      ]
    },
    {
      "cell_type": "code",
      "source": [],
      "metadata": {
        "id": "lOkwcmRD7YhH"
      },
      "execution_count": null,
      "outputs": []
    }
  ]
}